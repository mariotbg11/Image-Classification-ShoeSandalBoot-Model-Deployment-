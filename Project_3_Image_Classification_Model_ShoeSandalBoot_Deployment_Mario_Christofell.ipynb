{
  "nbformat": 4,
  "nbformat_minor": 0,
  "metadata": {
    "colab": {
      "provenance": [],
      "collapsed_sections": []
    },
    "kernelspec": {
      "name": "python3",
      "display_name": "Python 3"
    },
    "language_info": {
      "name": "python"
    }
  },
  "cells": [
    {
      "cell_type": "markdown",
      "source": [
        "# Mario Christofell L.Tobing"
      ],
      "metadata": {
        "id": "OZqcK4w0bPat"
      }
    },
    {
      "cell_type": "markdown",
      "source": [
        "Project 3 Dicoding Modul Belajar Pengembangan Machine Learning\n",
        "\n",
        "*   Image Classification Model Deployment\n",
        "*   Dataset from Kaggle : Shoe vs Sandal vs Boot Image Dataset (15K Images) (https://www.kaggle.com/datasets/hasibalmuzdadid/shoe-vs-sandal-vs-boot-dataset-15k-images)\n",
        "\n"
      ],
      "metadata": {
        "id": "P3CZc6nIbMbG"
      }
    },
    {
      "cell_type": "markdown",
      "source": [
        "# Import Library"
      ],
      "metadata": {
        "id": "dzpb_gpjwZ6S"
      }
    },
    {
      "cell_type": "code",
      "execution_count": 60,
      "metadata": {
        "id": "UC9jxUayYUzi"
      },
      "outputs": [],
      "source": [
        "import os\n",
        "import shutil\n",
        "import zipfile\n",
        "import matplotlib.pyplot as plt\n",
        "import splitfolders\n",
        "import pathlib\n",
        "import tensorflow as tf\n",
        "from tensorflow.keras.models import Sequential\n",
        "from keras.layers import Dropout\n",
        "from tensorflow.keras.preprocessing.image import ImageDataGenerator\n",
        "from keras.callbacks import EarlyStopping"
      ]
    },
    {
      "cell_type": "markdown",
      "source": [
        "# Install & Upload Dataset Kaggle"
      ],
      "metadata": {
        "id": "1IEfeOipwgkF"
      }
    },
    {
      "cell_type": "code",
      "source": [
        "# install kaggle package\n",
        "!pip install -q kaggle"
      ],
      "metadata": {
        "id": "PNzPSD6kYX54"
      },
      "execution_count": 2,
      "outputs": []
    },
    {
      "cell_type": "code",
      "source": [
        "# upload kaggle.json\n",
        "from google.colab import files\n",
        "files.upload()"
      ],
      "metadata": {
        "colab": {
          "base_uri": "https://localhost:8080/",
          "height": 91
        },
        "id": "WuSv690uYYZw",
        "outputId": "11627e49-f654-44b9-9050-934c22d848c7"
      },
      "execution_count": 3,
      "outputs": [
        {
          "output_type": "display_data",
          "data": {
            "text/plain": [
              "<IPython.core.display.HTML object>"
            ],
            "text/html": [
              "\n",
              "     <input type=\"file\" id=\"files-e8df0590-c264-418d-9b8e-a3993f3dde4c\" name=\"files[]\" multiple disabled\n",
              "        style=\"border:none\" />\n",
              "     <output id=\"result-e8df0590-c264-418d-9b8e-a3993f3dde4c\">\n",
              "      Upload widget is only available when the cell has been executed in the\n",
              "      current browser session. Please rerun this cell to enable.\n",
              "      </output>\n",
              "      <script>// Copyright 2017 Google LLC\n",
              "//\n",
              "// Licensed under the Apache License, Version 2.0 (the \"License\");\n",
              "// you may not use this file except in compliance with the License.\n",
              "// You may obtain a copy of the License at\n",
              "//\n",
              "//      http://www.apache.org/licenses/LICENSE-2.0\n",
              "//\n",
              "// Unless required by applicable law or agreed to in writing, software\n",
              "// distributed under the License is distributed on an \"AS IS\" BASIS,\n",
              "// WITHOUT WARRANTIES OR CONDITIONS OF ANY KIND, either express or implied.\n",
              "// See the License for the specific language governing permissions and\n",
              "// limitations under the License.\n",
              "\n",
              "/**\n",
              " * @fileoverview Helpers for google.colab Python module.\n",
              " */\n",
              "(function(scope) {\n",
              "function span(text, styleAttributes = {}) {\n",
              "  const element = document.createElement('span');\n",
              "  element.textContent = text;\n",
              "  for (const key of Object.keys(styleAttributes)) {\n",
              "    element.style[key] = styleAttributes[key];\n",
              "  }\n",
              "  return element;\n",
              "}\n",
              "\n",
              "// Max number of bytes which will be uploaded at a time.\n",
              "const MAX_PAYLOAD_SIZE = 100 * 1024;\n",
              "\n",
              "function _uploadFiles(inputId, outputId) {\n",
              "  const steps = uploadFilesStep(inputId, outputId);\n",
              "  const outputElement = document.getElementById(outputId);\n",
              "  // Cache steps on the outputElement to make it available for the next call\n",
              "  // to uploadFilesContinue from Python.\n",
              "  outputElement.steps = steps;\n",
              "\n",
              "  return _uploadFilesContinue(outputId);\n",
              "}\n",
              "\n",
              "// This is roughly an async generator (not supported in the browser yet),\n",
              "// where there are multiple asynchronous steps and the Python side is going\n",
              "// to poll for completion of each step.\n",
              "// This uses a Promise to block the python side on completion of each step,\n",
              "// then passes the result of the previous step as the input to the next step.\n",
              "function _uploadFilesContinue(outputId) {\n",
              "  const outputElement = document.getElementById(outputId);\n",
              "  const steps = outputElement.steps;\n",
              "\n",
              "  const next = steps.next(outputElement.lastPromiseValue);\n",
              "  return Promise.resolve(next.value.promise).then((value) => {\n",
              "    // Cache the last promise value to make it available to the next\n",
              "    // step of the generator.\n",
              "    outputElement.lastPromiseValue = value;\n",
              "    return next.value.response;\n",
              "  });\n",
              "}\n",
              "\n",
              "/**\n",
              " * Generator function which is called between each async step of the upload\n",
              " * process.\n",
              " * @param {string} inputId Element ID of the input file picker element.\n",
              " * @param {string} outputId Element ID of the output display.\n",
              " * @return {!Iterable<!Object>} Iterable of next steps.\n",
              " */\n",
              "function* uploadFilesStep(inputId, outputId) {\n",
              "  const inputElement = document.getElementById(inputId);\n",
              "  inputElement.disabled = false;\n",
              "\n",
              "  const outputElement = document.getElementById(outputId);\n",
              "  outputElement.innerHTML = '';\n",
              "\n",
              "  const pickedPromise = new Promise((resolve) => {\n",
              "    inputElement.addEventListener('change', (e) => {\n",
              "      resolve(e.target.files);\n",
              "    });\n",
              "  });\n",
              "\n",
              "  const cancel = document.createElement('button');\n",
              "  inputElement.parentElement.appendChild(cancel);\n",
              "  cancel.textContent = 'Cancel upload';\n",
              "  const cancelPromise = new Promise((resolve) => {\n",
              "    cancel.onclick = () => {\n",
              "      resolve(null);\n",
              "    };\n",
              "  });\n",
              "\n",
              "  // Wait for the user to pick the files.\n",
              "  const files = yield {\n",
              "    promise: Promise.race([pickedPromise, cancelPromise]),\n",
              "    response: {\n",
              "      action: 'starting',\n",
              "    }\n",
              "  };\n",
              "\n",
              "  cancel.remove();\n",
              "\n",
              "  // Disable the input element since further picks are not allowed.\n",
              "  inputElement.disabled = true;\n",
              "\n",
              "  if (!files) {\n",
              "    return {\n",
              "      response: {\n",
              "        action: 'complete',\n",
              "      }\n",
              "    };\n",
              "  }\n",
              "\n",
              "  for (const file of files) {\n",
              "    const li = document.createElement('li');\n",
              "    li.append(span(file.name, {fontWeight: 'bold'}));\n",
              "    li.append(span(\n",
              "        `(${file.type || 'n/a'}) - ${file.size} bytes, ` +\n",
              "        `last modified: ${\n",
              "            file.lastModifiedDate ? file.lastModifiedDate.toLocaleDateString() :\n",
              "                                    'n/a'} - `));\n",
              "    const percent = span('0% done');\n",
              "    li.appendChild(percent);\n",
              "\n",
              "    outputElement.appendChild(li);\n",
              "\n",
              "    const fileDataPromise = new Promise((resolve) => {\n",
              "      const reader = new FileReader();\n",
              "      reader.onload = (e) => {\n",
              "        resolve(e.target.result);\n",
              "      };\n",
              "      reader.readAsArrayBuffer(file);\n",
              "    });\n",
              "    // Wait for the data to be ready.\n",
              "    let fileData = yield {\n",
              "      promise: fileDataPromise,\n",
              "      response: {\n",
              "        action: 'continue',\n",
              "      }\n",
              "    };\n",
              "\n",
              "    // Use a chunked sending to avoid message size limits. See b/62115660.\n",
              "    let position = 0;\n",
              "    do {\n",
              "      const length = Math.min(fileData.byteLength - position, MAX_PAYLOAD_SIZE);\n",
              "      const chunk = new Uint8Array(fileData, position, length);\n",
              "      position += length;\n",
              "\n",
              "      const base64 = btoa(String.fromCharCode.apply(null, chunk));\n",
              "      yield {\n",
              "        response: {\n",
              "          action: 'append',\n",
              "          file: file.name,\n",
              "          data: base64,\n",
              "        },\n",
              "      };\n",
              "\n",
              "      let percentDone = fileData.byteLength === 0 ?\n",
              "          100 :\n",
              "          Math.round((position / fileData.byteLength) * 100);\n",
              "      percent.textContent = `${percentDone}% done`;\n",
              "\n",
              "    } while (position < fileData.byteLength);\n",
              "  }\n",
              "\n",
              "  // All done.\n",
              "  yield {\n",
              "    response: {\n",
              "      action: 'complete',\n",
              "    }\n",
              "  };\n",
              "}\n",
              "\n",
              "scope.google = scope.google || {};\n",
              "scope.google.colab = scope.google.colab || {};\n",
              "scope.google.colab._files = {\n",
              "  _uploadFiles,\n",
              "  _uploadFilesContinue,\n",
              "};\n",
              "})(self);\n",
              "</script> "
            ]
          },
          "metadata": {}
        },
        {
          "output_type": "stream",
          "name": "stdout",
          "text": [
            "Saving kaggle.json to kaggle.json\n"
          ]
        },
        {
          "output_type": "execute_result",
          "data": {
            "text/plain": [
              "{'kaggle.json': b'{\"username\":\"mariochris\",\"key\":\"cfcbf556ad8e73e0c0071a1e273d5fe2\"}'}"
            ]
          },
          "metadata": {},
          "execution_count": 3
        }
      ]
    },
    {
      "cell_type": "code",
      "source": [
        "!mkdir -p ~/.kaggle\n",
        "!cp kaggle.json ~/.kaggle/\n",
        "!chmod 600 ~/.kaggle/kaggle.json\n",
        "!ls ~/.kaggle"
      ],
      "metadata": {
        "colab": {
          "base_uri": "https://localhost:8080/"
        },
        "id": "1EPuPRIDYgKi",
        "outputId": "bcea02b7-4812-4418-87a5-d704efc5e131"
      },
      "execution_count": 4,
      "outputs": [
        {
          "output_type": "stream",
          "name": "stdout",
          "text": [
            "kaggle.json\n"
          ]
        }
      ]
    },
    {
      "cell_type": "code",
      "source": [
        "!kaggle datasets download -d hasibalmuzdadid/shoe-vs-sandal-vs-boot-dataset-15k-images -p /content/img/ --unzip"
      ],
      "metadata": {
        "colab": {
          "base_uri": "https://localhost:8080/"
        },
        "id": "ndprNrcFYmg5",
        "outputId": "f93f37f0-b0d6-4c25-e3b0-fe154f984b8f"
      },
      "execution_count": 13,
      "outputs": [
        {
          "output_type": "stream",
          "name": "stdout",
          "text": [
            "Downloading shoe-vs-sandal-vs-boot-dataset-15k-images.zip to /content/img\n",
            "\r  0% 0.00/47.0M [00:00<?, ?B/s]\r 13% 6.00M/47.0M [00:00<00:00, 62.4MB/s]\r 68% 32.0M/47.0M [00:00<00:00, 182MB/s] \n",
            "\r100% 47.0M/47.0M [00:00<00:00, 186MB/s]\n"
          ]
        }
      ]
    },
    {
      "cell_type": "markdown",
      "source": [
        "# Split Folder"
      ],
      "metadata": {
        "id": "5sUCh8xJwp7v"
      }
    },
    {
      "cell_type": "code",
      "source": [
        "local_dir = '/img/Shoe vs Sandal vs Boot Dataset/' # direktori pertama\n",
        "if ('datast' in os.listdir(local_dir)):\n",
        "  shutil.rmtree(os.path.join(local_dir, 'datast'))\n",
        "\n",
        "splitfolders.ratio('/img/Shoe vs Sandal vs Boot Dataset/', output ='/img/Shoe vs Sandal vs Boot Dataset/datast',\n",
        "                    seed=None, ratio=(.8,.2)) # pembagian untuk ukuran data training sebesar 80% dan validation 20%\n",
        "\n",
        "# Direktori masing -masing jenis gambar rock, paper, scissors\n",
        "boot = os.path.join('/img/Shoe vs Sandal vs Boot Dataset/Boot') # direktori jenis gambar Boct\n",
        "sandal = os.path.join('/img/Shoe vs Sandal vs Boot Dataset/Sandal') # direktori jenis gambar Sandal\n",
        "sshoe = os.path.join('/img/Shoe vs Sandal vs Boot Dataset/Shoe') # direktori jenis gambar Shoe\n",
        "\n",
        "# Direktori pada Data Training dari tiap jenis gambar (80%)\n",
        "boot_train = os.path.join('/img/Shoe vs Sandal vs Boot Dataset/datast/train/Boot') # banyaknya jenis gambar rock pada data training\n",
        "sandal_train = os.path.join('/img/Shoe vs Sandal vs Boot Dataset/datast/train/Sandal') # banyaknya jenis gambar paper pada data training\n",
        "shoe_train = os.path.join('/img/Shoe vs Sandal vs Boot Dataset/datast/train/Shoe') # banyaknya jenis gambar scissors pada data training\n",
        "\n",
        "# Direktori pada Data Validation dari tiap jenis gambar (20%)\n",
        "boot_val = os.path.join('/img/Shoe vs Sandal vs Boot Dataset/datast/val/Boot') # banyaknya jenis gambar rock pada data validation\n",
        "sandal_val = os.path.join('/img/Shoe vs Sandal vs Boot Dataset/datast/val/Sandal') # banyaknya jenis gambar paper pada data validation \n",
        "shoe_val = os.path.join('/img/Shoe vs Sandal vs Boot Dataset/datast/val/Shoe') # banyaknya jenis gambar scissors pada data validation"
      ],
      "metadata": {
        "colab": {
          "base_uri": "https://localhost:8080/"
        },
        "id": "2J-_algJavoZ",
        "outputId": "641990de-d2e4-4ace-c67d-1340bf7189e3"
      },
      "execution_count": 22,
      "outputs": [
        {
          "output_type": "stream",
          "name": "stderr",
          "text": [
            "Copying files: 15000 files [00:02, 6367.47 files/s]\n"
          ]
        }
      ]
    },
    {
      "cell_type": "markdown",
      "source": [
        "# Augmentasi with ImgaeDataGenerator"
      ],
      "metadata": {
        "id": "ljEkX_NGw3eI"
      }
    },
    {
      "cell_type": "code",
      "source": [
        "train_dir = \"/img/Shoe vs Sandal vs Boot Dataset/datast/train\"\n",
        "train_datagen = ImageDataGenerator(\n",
        "                    rescale=1./255,\n",
        "                    rotation_range=20,\n",
        "                    horizontal_flip=True,\n",
        "                    shear_range = 0.2,\n",
        "                    fill_mode = 'nearest')\n",
        "\n",
        "val_dir = \"/img/Shoe vs Sandal vs Boot Dataset/datast/val\"\n",
        "val_datagen = ImageDataGenerator(\n",
        "                    rescale=1./255)\n",
        "\n",
        "train_generator = train_datagen.flow_from_directory(\n",
        "\ttrain_dir, # direktori data training\n",
        "\ttarget_size=(150,150), # ukuran reolusi gambar diubah menjadi 150x150 pixel\n",
        "  batch_size=10,\n",
        "\tclass_mode='categorical' # klasifikasi yang akan dilakukan adalah multi kelas maka menggunakan categorical\n",
        ")\n",
        "\n",
        "validation_generator = val_datagen.flow_from_directory(\n",
        "\tval_dir, # direktori data validasi\n",
        "\ttarget_size=(150,150), # ukuran reolusi gambar diubah menjadi 150x150 pixel\n",
        "  batch_size=10,\n",
        "\tclass_mode='categorical' # klasifikasi yang akan dilakukan adalah multi kelas maka menggunakan categorcial\n",
        ")"
      ],
      "metadata": {
        "colab": {
          "base_uri": "https://localhost:8080/"
        },
        "id": "hgPfUDNNdpsr",
        "outputId": "e2e21b96-280b-4d77-a564-07182978b230"
      },
      "execution_count": 24,
      "outputs": [
        {
          "output_type": "stream",
          "name": "stdout",
          "text": [
            "Found 12000 images belonging to 3 classes.\n",
            "Found 3000 images belonging to 3 classes.\n"
          ]
        }
      ]
    },
    {
      "cell_type": "markdown",
      "source": [
        "# Model"
      ],
      "metadata": {
        "id": "zQfnEyZUw-4t"
      }
    },
    {
      "cell_type": "code",
      "source": [
        "model = tf.keras.models.Sequential([\n",
        "    tf.keras.layers.Conv2D(32, (3,3), activation='relu', input_shape=(150, 150, 3)), # konvulusi 1\n",
        "    tf.keras.layers.MaxPooling2D(2, 2),\n",
        "    tf.keras.layers.Conv2D(64, (3,3), activation='relu'), # konvulusi 2\n",
        "    tf.keras.layers.MaxPooling2D(2,2),\n",
        "    tf.keras.layers.Conv2D(128, (3,3), activation='relu'), # konvulusi 3\n",
        "    tf.keras.layers.MaxPooling2D(2,2),\n",
        "    tf.keras.layers.Conv2D(128, (3,3), activation='relu'), # konvulusi 4\n",
        "    tf.keras.layers.MaxPooling2D(2,2),\n",
        "    tf.keras.layers.Flatten(),\n",
        "    tf.keras.layers.Dropout(0.5),\n",
        "    tf.keras.layers.Dense(512, activation='relu'),\n",
        "    tf.keras.layers.Dense(3, activation='softmax') # menggunakan fungsi aktivasi 'softmax' karena klasifikasi yang dilakukan merupakan multi kelas \n",
        "])\n",
        "\n",
        "model.summary()"
      ],
      "metadata": {
        "colab": {
          "base_uri": "https://localhost:8080/"
        },
        "id": "OXGETzI3gctW",
        "outputId": "33bc8bb9-cee7-437c-bb1a-e0471745cace"
      },
      "execution_count": 39,
      "outputs": [
        {
          "output_type": "stream",
          "name": "stdout",
          "text": [
            "Model: \"sequential_1\"\n",
            "_________________________________________________________________\n",
            " Layer (type)                Output Shape              Param #   \n",
            "=================================================================\n",
            " conv2d_4 (Conv2D)           (None, 148, 148, 32)      896       \n",
            "                                                                 \n",
            " max_pooling2d_4 (MaxPooling  (None, 74, 74, 32)       0         \n",
            " 2D)                                                             \n",
            "                                                                 \n",
            " conv2d_5 (Conv2D)           (None, 72, 72, 64)        18496     \n",
            "                                                                 \n",
            " max_pooling2d_5 (MaxPooling  (None, 36, 36, 64)       0         \n",
            " 2D)                                                             \n",
            "                                                                 \n",
            " conv2d_6 (Conv2D)           (None, 34, 34, 128)       73856     \n",
            "                                                                 \n",
            " max_pooling2d_6 (MaxPooling  (None, 17, 17, 128)      0         \n",
            " 2D)                                                             \n",
            "                                                                 \n",
            " conv2d_7 (Conv2D)           (None, 15, 15, 128)       147584    \n",
            "                                                                 \n",
            " max_pooling2d_7 (MaxPooling  (None, 7, 7, 128)        0         \n",
            " 2D)                                                             \n",
            "                                                                 \n",
            " flatten_1 (Flatten)         (None, 6272)              0         \n",
            "                                                                 \n",
            " dropout_1 (Dropout)         (None, 6272)              0         \n",
            "                                                                 \n",
            " dense_2 (Dense)             (None, 512)               3211776   \n",
            "                                                                 \n",
            " dense_3 (Dense)             (None, 3)                 1539      \n",
            "                                                                 \n",
            "=================================================================\n",
            "Total params: 3,454,147\n",
            "Trainable params: 3,454,147\n",
            "Non-trainable params: 0\n",
            "_________________________________________________________________\n"
          ]
        }
      ]
    },
    {
      "cell_type": "markdown",
      "source": [
        "# Callback Function"
      ],
      "metadata": {
        "id": "WIEsFkSVxEco"
      }
    },
    {
      "cell_type": "code",
      "source": [
        "class myCallback(tf.keras.callbacks.Callback):\n",
        "  def on_epoch_end(self, epoch, logs={}):\n",
        "    if(logs.get('accuracy')>0.9 and logs.get('val_accuracy')>0.9):\n",
        "      print(\"\\nThe accuracy has reached > 90%!\")\n",
        "      self.model.stop_training = True\n",
        "\n",
        "callbacks = myCallback()"
      ],
      "metadata": {
        "id": "-LWefdFqhdS0"
      },
      "execution_count": 51,
      "outputs": []
    },
    {
      "cell_type": "markdown",
      "source": [
        "# Train Model"
      ],
      "metadata": {
        "id": "Gc6947BYxJqZ"
      }
    },
    {
      "cell_type": "code",
      "source": [
        "model.compile(loss='categorical_crossentropy',\n",
        "              optimizer='adam',\n",
        "              metrics=['accuracy'])\n",
        "\n",
        "history = model.fit(\n",
        "      train_generator,\n",
        "      steps_per_epoch=10,\n",
        "      batch_size=128,\n",
        "      epochs=30,\n",
        "      validation_data=validation_generator,\n",
        "      validation_steps=5,\n",
        "      verbose=1,\n",
        "      callbacks=[callbacks])"
      ],
      "metadata": {
        "colab": {
          "base_uri": "https://localhost:8080/"
        },
        "id": "ZjC58CLjhRhh",
        "outputId": "ce3d4249-a062-4073-9ede-33961541beef"
      },
      "execution_count": 52,
      "outputs": [
        {
          "output_type": "stream",
          "name": "stdout",
          "text": [
            "Epoch 1/30\n",
            "10/10 [==============================] - 6s 583ms/step - loss: 0.4474 - accuracy: 0.8600 - val_loss: 0.1662 - val_accuracy: 0.9200\n",
            "Epoch 2/30\n",
            "10/10 [==============================] - 8s 776ms/step - loss: 0.3355 - accuracy: 0.8600 - val_loss: 0.2543 - val_accuracy: 0.9000\n",
            "Epoch 3/30\n",
            "10/10 [==============================] - 6s 589ms/step - loss: 0.2522 - accuracy: 0.8900 - val_loss: 0.3141 - val_accuracy: 0.8800\n",
            "Epoch 4/30\n",
            "10/10 [==============================] - 6s 596ms/step - loss: 0.3461 - accuracy: 0.8600 - val_loss: 0.0998 - val_accuracy: 0.9800\n",
            "Epoch 5/30\n",
            "10/10 [==============================] - 6s 578ms/step - loss: 0.2624 - accuracy: 0.8700 - val_loss: 0.4158 - val_accuracy: 0.8600\n",
            "Epoch 6/30\n",
            "10/10 [==============================] - 6s 595ms/step - loss: 0.2986 - accuracy: 0.8700 - val_loss: 0.0984 - val_accuracy: 0.9800\n",
            "Epoch 7/30\n",
            "10/10 [==============================] - 6s 659ms/step - loss: 0.2851 - accuracy: 0.8700 - val_loss: 0.3491 - val_accuracy: 0.8200\n",
            "Epoch 8/30\n",
            "10/10 [==============================] - 7s 628ms/step - loss: 0.6059 - accuracy: 0.8100 - val_loss: 0.3339 - val_accuracy: 0.8600\n",
            "Epoch 9/30\n",
            "10/10 [==============================] - 6s 585ms/step - loss: 0.3282 - accuracy: 0.9100 - val_loss: 0.2432 - val_accuracy: 0.8600\n",
            "Epoch 10/30\n",
            "10/10 [==============================] - 6s 584ms/step - loss: 0.2898 - accuracy: 0.8500 - val_loss: 0.2540 - val_accuracy: 0.9200\n",
            "Epoch 11/30\n",
            "10/10 [==============================] - 6s 571ms/step - loss: 0.3025 - accuracy: 0.8800 - val_loss: 0.4462 - val_accuracy: 0.9600\n",
            "Epoch 12/30\n",
            "10/10 [==============================] - ETA: 0s - loss: 0.2459 - accuracy: 0.9300\n",
            "The accuracy has reached > 90%!\n",
            "10/10 [==============================] - 6s 594ms/step - loss: 0.2459 - accuracy: 0.9300 - val_loss: 0.0601 - val_accuracy: 0.9800\n"
          ]
        }
      ]
    },
    {
      "cell_type": "markdown",
      "source": [
        "# Visualization Plot Accuracy & Loss Model"
      ],
      "metadata": {
        "id": "EPjgxpgQxP66"
      }
    },
    {
      "cell_type": "code",
      "source": [
        "plt.plot(history.history['accuracy'])\n",
        "plt.plot(history.history['val_accuracy'])\n",
        "plt.title('Accuracy')\n",
        "plt.ylabel('accuracy')\n",
        "plt.xlabel('epoch')\n",
        "plt.legend(['train', 'val'], loc='upper left')\n",
        "plt.show()"
      ],
      "metadata": {
        "colab": {
          "base_uri": "https://localhost:8080/",
          "height": 295
        },
        "id": "1aOiPNarr48p",
        "outputId": "0cf433f4-137e-4dad-971b-3e3fa7a6dac1"
      },
      "execution_count": 54,
      "outputs": [
        {
          "output_type": "display_data",
          "data": {
            "text/plain": [
              "<Figure size 432x288 with 1 Axes>"
            ],
            "image/png": "[encoded data removed]"
          },
          "metadata": {
            "needs_background": "light"
          }
        }
      ]
    },
    {
      "cell_type": "code",
      "source": [
        "plt.plot(history.history['loss'])\n",
        "plt.plot(history.history['val_loss'])\n",
        "plt.title('Loss')\n",
        "plt.ylabel('loss')\n",
        "plt.xlabel('epoch')\n",
        "plt.legend(['train', 'val'], loc='upper left')\n",
        "plt.show()"
      ],
      "metadata": {
        "colab": {
          "base_uri": "https://localhost:8080/",
          "height": 295
        },
        "id": "0HaNrYYXsX_t",
        "outputId": "d7600575-b914-4dbc-8120-a45501cc3c8f"
      },
      "execution_count": 55,
      "outputs": [
        {
          "output_type": "display_data",
          "data": {
            "text/plain": [
              "<Figure size 432x288 with 1 Axes>"
            ],
            "image/png": "[encoded data removed]"
          },
          "metadata": {
            "needs_background": "light"
          }
        }
      ]
    },
    {
      "cell_type": "markdown",
      "source": [
        "# Save Model to TF-Lite"
      ],
      "metadata": {
        "id": "fEYUG1uzxZCd"
      }
    },
    {
      "cell_type": "code",
      "source": [
        "# Menyimpan model dalam format SavedModel\n",
        "export_dir = 'saved_model/'\n",
        "tf.saved_model.save(model, export_dir)\n",
        "\n",
        "# Convert SavedModel menjadi vegs.tflite\n",
        "converter = tf.lite.TFLiteConverter.from_saved_model(export_dir)\n",
        "tflite_model = converter.convert()\n",
        "\n",
        "tflite_model_file = pathlib.Path('shoe.tflite')\n",
        "tflite_model_file.write_bytes(tflite_model)"
      ],
      "metadata": {
        "colab": {
          "base_uri": "https://localhost:8080/"
        },
        "id": "IbiHHReNsfGv",
        "outputId": "f4ee578c-3fff-4abd-a37b-46c854a07742"
      },
      "execution_count": 62,
      "outputs": [
        {
          "output_type": "stream",
          "name": "stderr",
          "text": [
            "WARNING:absl:Found untraced functions such as _jit_compiled_convolution_op, _jit_compiled_convolution_op, _jit_compiled_convolution_op, _jit_compiled_convolution_op while saving (showing 4 of 4). These functions will not be directly callable after loading.\n"
          ]
        },
        {
          "output_type": "execute_result",
          "data": {
            "text/plain": [
              "13821368"
            ]
          },
          "metadata": {},
          "execution_count": 62
        }
      ]
    }
  ]
}